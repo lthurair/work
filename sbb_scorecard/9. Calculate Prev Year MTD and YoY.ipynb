{
 "cells": [
  {
   "cell_type": "code",
   "execution_count": null,
   "metadata": {},
   "outputs": [],
   "source": [
    "## Create the last year's MTD and YoY metrics program"
   ]
  },
  {
   "cell_type": "code",
   "execution_count": null,
   "metadata": {},
   "outputs": [],
   "source": [
    "from pyspark.context import SparkContext\n",
    "from pyspark.sql import HiveContext, SQLContext,SparkSession\n",
    "from pyspark.sql import functions as F\n",
    "from datetime import date,timedelta\n",
    "from datetime import datetime\n",
    "sc = SparkContext(appName = \"Combined_Table\")\n",
    "sql_context = HiveContext(sc)\n",
    "spark = SparkSession(sc)\n",
    "spark = (SparkSession.builder.enableHiveSupport().getOrCreate())\n"
   ]
  },
  {
   "cell_type": "code",
   "execution_count": null,
   "metadata": {},
   "outputs": [],
   "source": [
    "spark \n",
    "import pandas as pd\n",
    "import os\n",
    "import numpy as np\n",
    "import datetime\n",
    "import time\n",
    "import glob\n",
    "import os\n",
    "from numpy import nan\n",
    "from pyspark.sql import functions as F\n",
    "from pyspark.sql.functions import format_string\n",
    "\n",
    "pd.set_option('display.width', 150)\n",
    "pd.set_option('display.max_columns', None)\n",
    "pd.set_option('display.max_rows', None)"
   ]
  },
  {
   "cell_type": "code",
   "execution_count": null,
   "metadata": {},
   "outputs": [],
   "source": [
    "exec(open('/home/sharb24/SBB/thural2/record.py').read())\n"
   ]
  },
  {
   "cell_type": "code",
   "execution_count": null,
   "metadata": {},
   "outputs": [],
   "source": [
    "from datetime import datetime\n",
    "last_year0 = datetime.strptime(rec_date, '%Y%m%d').strftime('%m/%d/%Y')\n",
    "\n",
    "## add 1 day\n",
    "from datetime import datetime, timedelta\n",
    "last_day00=pd.to_datetime(last_year0) + timedelta(days=1)\n",
    "print(last_day00)\n",
    "\n",
    "## subtract 1 year\n",
    "from datetime import datetime, timedelta\n",
    "last_year=pd.to_datetime(last_day00) - timedelta(days=1*365)\n",
    "print(last_year)\n",
    "\n",
    "## convert to old scorecard format\n",
    "from datetime import datetime\n",
    "last_yearf = last_year.strftime('%m/%d/%Y')\n",
    "print(last_yearf)\n"
   ]
  },
  {
   "cell_type": "code",
   "execution_count": null,
   "metadata": {},
   "outputs": [],
   "source": []
  },
  {
   "cell_type": "code",
   "execution_count": null,
   "metadata": {},
   "outputs": [],
   "source": [
    "######## IMPORT FUNCTIONS\n",
    "\n",
    "## CREATE THE previous year's MTD, QTD, AND YTD VARIABLES\n",
    "exec(\"\"\"def yoyvarfunc(work): \n",
    "    work['prev_november'] = ((work.november.fillna(0)) - (work.last_november.fillna(0)))/(work.november.fillna(0))\n",
    "    work['prev_december'] = ((work.december.fillna(0)) - (work.last_december.fillna(0)))/(work.december.fillna(0))\n",
    "    work['prev_january'] = ((work.january.fillna(0)) - (work.last_january.fillna(0)))/(work.january.fillna(0))\n",
    "    work['prev_february'] = ((work.february.fillna(0)) - (work.last_february.fillna(0)))/(work.february.fillna(0))\n",
    "    work['prev_march'] = ((work.march.fillna(0)) - (work.last_march.fillna(0)))/(work.march.fillna(0))\n",
    "    work['prev_april'] = ((work.april.fillna(0)) - (work.last_april.fillna(0)))/(work.april.fillna(0))\n",
    "    work['prev_may'] = ((work.may.fillna(0)) - (work.last_may.fillna(0)))/(work.may.fillna(0))\n",
    "    work['prev_june'] = ((work.june.fillna(0)) - (work.last_june.fillna(0)))/(work.june.fillna(0))\n",
    "    work['prev_july'] = ((work.july.fillna(0)) - (work.last_july.fillna(0)))/(work.july.fillna(0))\n",
    "    work['prev_august'] = ((work.august.fillna(0)) - (work.last_august.fillna(0)))/(work.august.fillna(0))\n",
    "    work['prev_september'] = ((work.september.fillna(0)) - (work.last_september.fillna(0)))/(work.september.fillna(0))\n",
    "    work['prev_october'] = ((work.october.fillna(0)) - (work.last_october.fillna(0)))/(work.october.fillna(0))\n",
    "    work['Q1_YoY'] = ((work.q1.fillna(0)) - (work.last_q1.fillna(0)))/(work.q1.fillna(0))\n",
    "    work['Q2_YoY'] = ((work.q2.fillna(0)) - (work.last_q2.fillna(0)))/(work.q2.fillna(0))\n",
    "    work['Q3_YoY'] = ((work.q3.fillna(0)) - (work.last_q3.fillna(0)))/(work.q3.fillna(0))\n",
    "    work['Q4_YoY'] = ((work.q4.fillna(0)) - (work.last_q4.fillna(0)))/(work.q4.fillna(0))\n",
    "    work['YTD_YoY'] = ((work.ytd.fillna(0)) - (work.last_ytd.fillna(0)))/(work.ytd.fillna(0))\n",
    "    \"\"\")\n",
    "\n",
    "total_onetd1=('Total Wealth Referrals','AMSB Retail Referrals','Total TD Securities Direct Trade','Total OneTD Widgets')\n",
    "total_be1=('Business Credit Protection(BCP) Widgets','Total Merchant Solutions','Total Cash Management Services (including RDC)',\n",
    "         'Total Credit Cards','Total Business Essentials Widgets')"
   ]
  },
  {
   "cell_type": "code",
   "execution_count": null,
   "metadata": {},
   "outputs": [],
   "source": [
    "####################### READ IN THE CURRENT AM DATA METRICS (EXCEPT LEI) #######################################\n",
    "df_metrics= spark.table('anp_cabbtdct1_final.SBB_SC_OUTPUT_ALL')\n",
    "df_metrics1=df_metrics.toPandas()\n",
    "\n",
    "## get the AMSB data\n",
    "df_metric_amsb=df_metrics1[(df_metrics1.level=='AMSB') & (df_metrics1.record_date==rec_date)]\n",
    "\n",
    "## get the AM data\n",
    "df_metric_am=df_metrics1[(df_metrics1.level=='AM') & (df_metrics1.record_date==rec_date)]\n",
    "\n",
    "## get the SM data\n",
    "df_metric_sm=df_metrics1[(df_metrics1.level=='SM') & (df_metrics1.record_date==rec_date)]\n"
   ]
  },
  {
   "cell_type": "code",
   "execution_count": null,
   "metadata": {},
   "outputs": [],
   "source": [
    "df_metric_sm[(df_metric_sm.employee_name==\"GTA\") & (df_metric_sm.metric_name==\"AMSB Retail Referrals\")]"
   ]
  },
  {
   "cell_type": "code",
   "execution_count": null,
   "metadata": {},
   "outputs": [],
   "source": [
    "\n",
    "################################### GET ALL AMSBs #################################################\n",
    "\n",
    "## get all AMSBs from HR data\n",
    "df=spark.sql(\"select acf2_id,employee_name,am_cost_center,am_cost_center_name,am_cost_center_full_name, \\\n",
    "                     sm_cost_center,sm_cost_center_name from \\\n",
    "                     (select *, row_number() over(partition by acf2_id order by record_date desc) as ran \\\n",
    "                     from anp_cabbtdct1_final.HRM_SBB_ALIGNMENT0)b where ran=1\")\n",
    "sbb_hr1=df.toPandas()\n",
    "\n",
    "sbb_hr2=sbb_hr1.copy()\n",
    "sbb_hr2['level']='AMSB'\n",
    "sbb_hr2['scorecard_filter']='SBB'\n",
    "sbb_hr3=sbb_hr2[['acf2_id','employee_name','level','scorecard_filter','am_cost_center','am_cost_center_name','am_cost_center_full_name',\n",
    "                 'sm_cost_center','sm_cost_center_name']]\n",
    "\n",
    "## get unique metric_name and unique benchmarks\n",
    "df_metrics1_all3=df_metric_amsb[['level','metric_name','sm_cost_center','q1_benchmark','q2_benchmark','q3_benchmark','q4_benchmark','ytd_benchmark']].drop_duplicates()\n",
    "\n",
    "## merge HR data with all metric names and benchmarks\n",
    "result_amsb18 = pd.merge(sbb_hr3,df_metrics1_all3,on=['level','sm_cost_center'])\n",
    "\n",
    "## now merge with data so each AMSB has each metric name\n",
    "    ##drop columns before merge\n",
    "all_metrics_final_amsb1=df_metric_amsb.drop(columns=['employee_name','q1_benchmark','q2_benchmark','q3_benchmark','q4_benchmark','ytd_benchmark',\n",
    "                                                            'am_cost_center','am_cost_center_name','am_cost_center_full_name','sm_cost_center',\n",
    "                                                             'sm_cost_center_name','scorecard_filter'])\n",
    "result_amsb28 = pd.merge(result_amsb18,all_metrics_final_amsb1,on=['acf2_id','level','metric_name'],how='left')\n",
    "\n",
    "result_amsb28['record_date']=dteq\n",
    "\n",
    "result_amsb28['prev_november']=0\n",
    "result_amsb28['prev_december']=0\n",
    "result_amsb28['prev_january']=0\n",
    "result_amsb28['prev_february']=0\n",
    "result_amsb28['prev_march']=0\n",
    "result_amsb28['prev_april']=0\n",
    "result_amsb28['prev_may']=0\n",
    "result_amsb28['prev_june']=0\n",
    "result_amsb28['prev_july']=0\n",
    "result_amsb28['prev_august']=0\n",
    "result_amsb28['prev_september']=0\n",
    "result_amsb28['prev_october']=0\n",
    "result_amsb28['Q1_YoY']=0\n",
    "result_amsb28['Q2_YoY']=0\n",
    "result_amsb28['Q3_YoY']=0\n",
    "result_amsb28['Q4_YoY']=0\n",
    "result_amsb28['YTD_YoY']=0\n",
    "\n",
    "#### get relevant vars\n",
    "df_amsb_yoy=result_amsb28[['metric_name','level','acf2_id','employee_name',\n",
    "                            'november','prev_november','december','prev_december','january','prev_january',\n",
    "                            'february','prev_february','march','prev_march','april','prev_april','may','prev_may',\n",
    "                            'june','prev_june','july','prev_july','august','prev_august','september','prev_september',\n",
    "                            'october','prev_october','q1','q1_benchmark','Q1_YoY','q2','q2_benchmark','Q2_YoY',\n",
    "                            'q3','q3_benchmark','Q3_YoY','q4','q4_benchmark','Q4_YoY','ytd','ytd_benchmark','YTD_YoY',\n",
    "                            'am_cost_center','am_cost_center_name','am_cost_center_full_name',\n",
    "                            'sm_cost_center','sm_cost_center_name','scorecard_filter','record_date']]\n",
    "\n"
   ]
  },
  {
   "cell_type": "code",
   "execution_count": null,
   "metadata": {},
   "outputs": [],
   "source": [
    "#df_metrics1[(df_metrics1.acf2_id=='ALEXAT2') & (df_metrics1.metric_name=='ALL Total Commercial Volume')]"
   ]
  },
  {
   "cell_type": "code",
   "execution_count": null,
   "metadata": {},
   "outputs": [],
   "source": [
    "\n",
    "################################################ get all AMs #######################################\n",
    "\n",
    "#### hr data\n",
    "sbb_hr7=sbb_hr1.copy()\n",
    "sbb_hr31=sbb_hr7[['am_cost_center','am_cost_center_name','am_cost_center_full_name','sm_cost_center','sm_cost_center_name']].drop_duplicates()\n",
    "sbb_hr31['level']='AM'\n",
    "\n",
    "sc_list=('SBB','Retail','Total')\n",
    "## create dfs\n",
    "df_am = pd.DataFrame({'scorecard_filter':sc_list})\n",
    "df_am['level']='AM'\n",
    "\n",
    "## every AM CC has a scorecard_filter\n",
    "result67 = pd.merge(df_am,sbb_hr31,on=['level'])\n",
    "\n",
    "\n",
    "## get unique metric_name and unique benchmarks\n",
    "df_metrics1_all39=df_metric_am[['metric_name','scorecard_filter','q1_benchmark','q2_benchmark','q3_benchmark','q4_benchmark','ytd_benchmark']].drop_duplicates()\n",
    "df_metrics1_all39['level']='AM'\n",
    "\n",
    "## merge HR data with all metric names and benchmarks\n",
    "result_am188 = pd.merge(result67,df_metrics1_all39,on=['level','scorecard_filter'])\n",
    "\n",
    "## now merge with data so each AM has each metric name\n",
    "    ##drop columns before merge\n",
    "all_metrics_final_am1=df_metric_am.drop(columns=['employee_name','q1_benchmark','q2_benchmark','q3_benchmark','q4_benchmark','ytd_benchmark',\n",
    "                                                        'am_cost_center_name','am_cost_center_full_name','sm_cost_center',\n",
    "                                                        'sm_cost_center_name'])\n",
    "result_am288 = pd.merge(result_am188,all_metrics_final_am1,on=['am_cost_center','scorecard_filter','level','metric_name'],how='left')\n",
    "\n",
    "result_am288['employee_name']=result_am288.am_cost_center_full_name\n",
    "result_am288['acf2_id']=''\n",
    "result_am288['record_date']=dteq\n",
    "\n",
    "## keep relevant vars\n",
    "result_am_all=result_am288[['metric_name','level','acf2_id','employee_name',\n",
    "                            'november','december','january','february','march','april','may',\n",
    "                            'june','july','august','september','october','q1','q1_benchmark',\n",
    "                            'q2','q2_benchmark','q3','q3_benchmark','q4','q4_benchmark',\n",
    "                            'ytd','ytd_benchmark','am_cost_center','am_cost_center_name','am_cost_center_full_name',\n",
    "                            'sm_cost_center','sm_cost_center_name','scorecard_filter','record_date']]\n"
   ]
  },
  {
   "cell_type": "code",
   "execution_count": null,
   "metadata": {},
   "outputs": [],
   "source": [
    "result_am_all[(result_am_all.am_cost_center=='2187') & (result_am_all.scorecard_filter=='SBB')].shape[0]"
   ]
  },
  {
   "cell_type": "code",
   "execution_count": null,
   "metadata": {},
   "outputs": [],
   "source": [
    "\n",
    "############################################ get SMs ##############################################################\n",
    "\n",
    "#### hr data\n",
    "sbb_hr71=sbb_hr1.copy()\n",
    "sbb_hr311=sbb_hr71[['sm_cost_center','sm_cost_center_name']].drop_duplicates()\n",
    "sbb_hr311['level']='SM'\n",
    "\n",
    "sc_list=('SBB','Retail','Total')\n",
    "## create dfs\n",
    "df_sm = pd.DataFrame({'scorecard_filter':sc_list})\n",
    "df_sm['level']='SM'\n",
    "\n",
    "## every SM CC has a scorecard_filter\n",
    "result677 = pd.merge(df_sm,sbb_hr311,on=['level'])\n",
    "\n",
    "\n",
    "## get unique metric_name and unique benchmarks\n",
    "df_metrics1_all399=df_metric_sm[['metric_name','scorecard_filter','q1_benchmark','q2_benchmark','q3_benchmark','q4_benchmark','ytd_benchmark']].drop_duplicates()\n",
    "df_metrics1_all399['level']='SM'\n",
    "\n",
    "## merge HR data with all metric names and benchmarks\n",
    "result_sm188 = pd.merge(result677,df_metrics1_all399,on=['level','scorecard_filter'])\n",
    "\n",
    "## now merge with data so each SM has each metric name\n",
    "    ##drop columns before merge\n",
    "all_metrics_final_sm1=df_metric_sm.drop(columns=['employee_name','q1_benchmark','q2_benchmark','q3_benchmark','q4_benchmark','ytd_benchmark',\n",
    "                                                'am_cost_center','am_cost_center_name','am_cost_center_full_name','sm_cost_center_name'])\n",
    "result_sm288 = pd.merge(result_sm188,all_metrics_final_sm1,on=['sm_cost_center','scorecard_filter','level','metric_name'],how='left')\n",
    "\n",
    "result_sm288['am_cost_center']=''\n",
    "result_sm288['am_cost_center_name']=''\n",
    "result_sm288['am_cost_center_full_name']=''\n",
    "result_sm288['employee_name']=result_sm288.sm_cost_center_name\n",
    "result_sm288['acf2_id']=''\n",
    "result_sm288['record_date']=dteq\n",
    "\n",
    "## keep relevant vars\n",
    "result_sm_all=result_sm288[['metric_name','level','acf2_id','employee_name',\n",
    "                            'november','december','january','february','march','april','may',\n",
    "                            'june','july','august','september','october','q1','q1_benchmark',\n",
    "                            'q2','q2_benchmark','q3','q3_benchmark','q4','q4_benchmark',\n",
    "                            'ytd','ytd_benchmark','am_cost_center','am_cost_center_name','am_cost_center_full_name',\n",
    "                            'sm_cost_center','sm_cost_center_name','scorecard_filter','record_date']]\n"
   ]
  },
  {
   "cell_type": "code",
   "execution_count": null,
   "metadata": {},
   "outputs": [],
   "source": [
    "result_sm_all[(result_sm_all.sm_cost_center=='2043') & (result_sm_all.scorecard_filter=='SBB')].metric_name.unique() ## missing TDEF volume"
   ]
  },
  {
   "cell_type": "code",
   "execution_count": null,
   "metadata": {},
   "outputs": [],
   "source": [
    "##################################################################################################\n",
    "############################# get the previous year's MTD and YTD data ###########################\n",
    "\n",
    "############ get historical AM data ##############\n",
    "dfamhist= spark.table('anp_cabbtdct1_working.AM_FY22_SCORECARD_HISTORY1')\n",
    "dfamhist1=dfamhist.toPandas()\n",
    "dfamhist1.columns=dfamhist1.columns.str.lower()\n",
    "## get last year's weekly data (mm/dd/yyyy) varchar\n",
    "dfamhist2=dfamhist1[(dfamhist1.scorecard_date==last_yearf)]\n",
    "\n",
    "##change vars to float\n",
    "dfamhist2= dfamhist2.astype({\"last_november\": float,\"last_december\": float, \"last_january\": float,\n",
    "                            \"last_february\": float, \"last_march\": float, \"last_april\": float,\n",
    "                            \"last_may\": float, \"last_june\": float, \"last_july\": float, \"last_august\": float,\n",
    "                            \"last_september\": float, \"last_october\": float, \"last_q1\": float, \"last_q2\": float,\n",
    "                            \"last_q3\": float, \"last_q4\": float, \"last_ytd\": float})\n",
    "\n",
    "############ get historical SM data #############\n",
    "dfsmhist= spark.table('anp_cabbtdct1_working.SM_FY22_SCORECARD_HISTORY1')\n",
    "dfsmhist1=dfsmhist.toPandas()\n",
    "dfsmhist1.columns=dfsmhist1.columns.str.lower()\n",
    "## get last year's weekly data (mm/dd/yyyy) varchar\n",
    "dfsmhist2=dfsmhist1[(dfsmhist1.scorecard_date==last_yearf)]\n",
    "\n",
    "##change vars to float\n",
    "dfsmhist2= dfsmhist2.astype({\"last_november\": float,\"last_december\": float, \"last_january\": float,\n",
    "                            \"last_february\": float, \"last_march\": float, \"last_april\": float,\n",
    "                            \"last_may\": float, \"last_june\": float, \"last_july\": float, \"last_august\": float,\n",
    "                            \"last_september\": float, \"last_october\": float, \"last_q1\": float, \"last_q2\": float,\n",
    "                            \"last_q3\": float, \"last_q4\": float, \"last_ytd\": float})\n",
    "\n",
    "##rename region_id\n",
    "dfsmhist2.rename(columns={\"region_id\":'sm_cost_center'},inplace=True)\n"
   ]
  },
  {
   "cell_type": "code",
   "execution_count": null,
   "metadata": {},
   "outputs": [],
   "source": [
    "####################### CALCULATE AM's YoY MTD AND YTD METRICS #############################################\n",
    "\n",
    "## merge the current data to last year's data\n",
    "am_metric_calc=pd.merge(result_am_all,dfamhist2,on=['metric_name','scorecard_filter','am_cost_center'],how=\"left\")\n",
    "\n",
    "## MTD,QTD,YTD calculations\n",
    "yoyvarfunc(am_metric_calc)\n",
    "\n",
    "#### get relevant vars\n",
    "df_am_yoy=am_metric_calc[['metric_name','level','acf2_id','employee_name',\n",
    "                            'november','prev_november','december','prev_december','january','prev_january',\n",
    "                            'february','prev_february','march','prev_march','april','prev_april','may','prev_may',\n",
    "                            'june','prev_june','july','prev_july','august','prev_august','september','prev_september',\n",
    "                            'october','prev_october','q1','q1_benchmark','Q1_YoY','q2','q2_benchmark','Q2_YoY',\n",
    "                            'q3','q3_benchmark','Q3_YoY','q4','q4_benchmark','Q4_YoY','ytd','ytd_benchmark','YTD_YoY',\n",
    "                            'am_cost_center','am_cost_center_name','am_cost_center_full_name',\n",
    "                            'sm_cost_center','sm_cost_center_name','scorecard_filter','record_date']]\n"
   ]
  },
  {
   "cell_type": "code",
   "execution_count": null,
   "metadata": {},
   "outputs": [],
   "source": [
    "#df_am_yoy.head(5)"
   ]
  },
  {
   "cell_type": "code",
   "execution_count": null,
   "metadata": {},
   "outputs": [],
   "source": [
    "dfsmhist2.metric_name.unique() ##### TD SECURITIES AND LEI ARE MISSING FROM HISTORY"
   ]
  },
  {
   "cell_type": "code",
   "execution_count": null,
   "metadata": {},
   "outputs": [],
   "source": [
    "####################### CALCULATE SM's YoY MTD AND YTD METRICS #############################################\n",
    "\n",
    "## merge the current data to last year's data\n",
    "sm_metric_calc=pd.merge(result_sm_all,dfsmhist2,on=['metric_name','scorecard_filter','sm_cost_center'],how=\"left\")\n",
    "\n",
    "## MTD,QTD,YTD calculations\n",
    "yoyvarfunc(sm_metric_calc)\n",
    "\n",
    "#### get relevant vars\n",
    "df_sm_yoy=sm_metric_calc[['metric_name','level','acf2_id','employee_name',\n",
    "                            'november','prev_november','december','prev_december','january','prev_january',\n",
    "                            'february','prev_february','march','prev_march','april','prev_april','may','prev_may',\n",
    "                            'june','prev_june','july','prev_july','august','prev_august','september','prev_september',\n",
    "                            'october','prev_october','q1','q1_benchmark','Q1_YoY','q2','q2_benchmark','Q2_YoY',\n",
    "                            'q3','q3_benchmark','Q3_YoY','q4','q4_benchmark','Q4_YoY','ytd','ytd_benchmark','YTD_YoY',\n",
    "                            'am_cost_center','am_cost_center_name','am_cost_center_full_name',\n",
    "                            'sm_cost_center','sm_cost_center_name','scorecard_filter','record_date']]\n"
   ]
  },
  {
   "cell_type": "code",
   "execution_count": null,
   "metadata": {},
   "outputs": [],
   "source": [
    "df_sm_yoy.head(5)"
   ]
  },
  {
   "cell_type": "code",
   "execution_count": null,
   "metadata": {},
   "outputs": [],
   "source": [
    "################################# CALCULATE FOR NO (roll up SM history to get total widgets) ################################################\n",
    "\n",
    "###### get historical OneTD widgets (sum of Retail Referrals, wealth referrals, td securities)\n",
    "dfsmhist21=dfsmhist2[dfsmhist2.metric_name.isin(total_onetd1)]\n",
    "\n",
    "## order vars\n",
    "dfsmhist23=dfsmhist21[['sm_cost_center','metric_name','scorecard_filter','scorecard_date','last_november','last_december','last_january',\n",
    "                      'last_february','last_march','last_april','last_may','last_june','last_july','last_august','last_september',\n",
    "                      'last_october','last_q1','last_q2','last_q3','last_q4','last_ytd']]\n",
    "\n",
    "\n",
    "###### get historical Business Essentials widgets (sum of bcp, credit cards, merchant, cms)\n",
    "dfsmhist26=dfsmhist2[dfsmhist2.metric_name.isin(total_be1)]\n",
    "\n",
    "## order vars\n",
    "dfsmhist27=dfsmhist26[['sm_cost_center','metric_name','scorecard_filter','scorecard_date','last_november','last_december','last_january',\n",
    "                      'last_february','last_march','last_april','last_may','last_june','last_july','last_august','last_september',\n",
    "                      'last_october','last_q1','last_q2','last_q3','last_q4','last_ytd']]\n",
    "\n",
    "\n",
    "#### concatenate to rest of dataframe\n",
    "df_sm_all=pd.concat([dfsmhist27,dfsmhist23,dfsmhist2],axis=0,sort=False)\n",
    "\n",
    "\n",
    "##rename legacy metrics to match current data\n",
    "df_sm_all.rename(columns = {\"Total TD Securities Direct Trade\":'TD Securities Direct Trade'}, inplace = True)"
   ]
  },
  {
   "cell_type": "code",
   "execution_count": null,
   "metadata": {},
   "outputs": [],
   "source": [
    "#df_sm_all"
   ]
  },
  {
   "cell_type": "code",
   "execution_count": null,
   "metadata": {},
   "outputs": [],
   "source": [
    "##################### CALCULATE NATIONAL OFFICE LAST YEAR\n",
    "##historical data\n",
    "df_nso_all27=df_sm_all.groupby(by=['scorecard_filter','metric_name','scorecard_date'],as_index=False).aggregate({\n",
    "                        'last_november': 'sum',\n",
    "                        'last_december': 'sum',\n",
    "                        'last_january': 'sum',\n",
    "                        'last_february': 'sum',\n",
    "                        'last_march': 'sum',\n",
    "                        'last_april': 'sum',\n",
    "                        'last_may': 'sum',\n",
    "                        'last_june': 'sum',\n",
    "                        'last_july': 'sum',\n",
    "                        'last_august': 'sum',\n",
    "                        'last_september': 'sum',\n",
    "                        'last_october': 'sum',\n",
    "                        'last_q1': 'sum',\n",
    "                        'last_q2': 'sum',\n",
    "                        'last_q3': 'sum',\n",
    "                        'last_q4': 'sum',\n",
    "                        'last_ytd': 'sum'})\n",
    "\n",
    "## order vars\n",
    "df_nso_all27=df_nso_all27[['metric_name','scorecard_filter','scorecard_date','last_november','last_december','last_january',\n",
    "                      'last_february','last_march','last_april','last_may','last_june','last_july','last_august','last_september',\n",
    "                      'last_october','last_q1','last_q2','last_q3','last_q4','last_ytd']]\n",
    "\n",
    "######### get this year's data for national office\n",
    "\n",
    "## get the AM data\n",
    "df_metric_nso9=df_metrics1[(df_metrics1.level=='National Office') & (df_metrics1.record_date==rec_date)]\n",
    "\n",
    "\n",
    "####################### CALCULATE NSO's YoY MTD AND YTD METRICS #############################################\n",
    "\n",
    "## merge the current data to last year's data\n",
    "nso_metric_calc=pd.merge(df_metric_nso9,df_nso_all27,on=['metric_name','scorecard_filter'],how=\"left\")\n",
    "\n",
    "## MTD,QTD,YTD calculations\n",
    "yoyvarfunc(nso_metric_calc)\n",
    "\n",
    "#### get relevant vars\n",
    "df_nso_yoy=nso_metric_calc[['metric_name','level','acf2_id','employee_name',\n",
    "                            'november','prev_november','december','prev_december','january','prev_january',\n",
    "                            'february','prev_february','march','prev_march','april','prev_april','may','prev_may',\n",
    "                            'june','prev_june','july','prev_july','august','prev_august','september','prev_september',\n",
    "                            'october','prev_october','q1','q1_benchmark','Q1_YoY','q2','q2_benchmark','Q2_YoY',\n",
    "                            'q3','q3_benchmark','Q3_YoY','q4','q4_benchmark','Q4_YoY','ytd','ytd_benchmark','YTD_YoY',\n",
    "                            'am_cost_center','am_cost_center_name','am_cost_center_full_name',\n",
    "                            'sm_cost_center','sm_cost_center_name','scorecard_filter','record_date']]\n",
    "\n"
   ]
  },
  {
   "cell_type": "code",
   "execution_count": null,
   "metadata": {},
   "outputs": [],
   "source": [
    "df_nso_yoy.head(5)"
   ]
  },
  {
   "cell_type": "code",
   "execution_count": null,
   "metadata": {},
   "outputs": [],
   "source": [
    "###### concatenate the AM and SM and NSO data (excludes LEI)\n",
    "df_am_yoy_metrics=pd.concat([df_am_yoy,df_sm_yoy,df_amsb_yoy, df_nso_yoy],axis=0)\n"
   ]
  },
  {
   "cell_type": "code",
   "execution_count": null,
   "metadata": {},
   "outputs": [],
   "source": [
    "df_nso_yoy[(df_nso_yoy.level=='National Office') & (df_nso_yoy.metric_name=='AMSB Retail Referrals')]"
   ]
  },
  {
   "cell_type": "code",
   "execution_count": null,
   "metadata": {},
   "outputs": [],
   "source": [
    "################################ GET GOALS FOR AMSB/AM/SM/NATIONAL OFFICE#################################\n",
    "### read in goals table\n",
    "goals_fil=spark.table(\"anp_cabbtdct1_final.SBB_SC_OUTPUT_GOALS\")\n",
    "goals_filter=goals_fil.toPandas()\n",
    "\n",
    "## subset non-RAMP separately\n",
    "    ##goals\n",
    "goals_filter00=goals_filter[(goals_filter.sbb_region_cc!='RAMP')]\n",
    "    ##data\n",
    "df_am_yoy_metrics00=df_am_yoy_metrics[~df_am_yoy_metrics.am_cost_center.isin(['3838','5311']) & \n",
    "                                     ~df_am_yoy_metrics.sm_cost_center.isin(['3838','5311'])]\n",
    "\n",
    "## subset RAMP separately\n",
    "    ##goals\n",
    "goals_filter01=goals_filter[(goals_filter.sbb_region_cc=='RAMP')]\n",
    "    ##data\n",
    "df_am_yoy_metrics01=df_am_yoy_metrics[df_am_yoy_metrics.am_cost_center.isin(['3838','5311']) | \n",
    "                                     df_am_yoy_metrics.sm_cost_center.isin(['3838','5311'])]\n",
    "\n",
    "\n",
    "## merge all non-RAMP metrics with non-RAMP goals\n",
    "all_goals20=pd.merge(df_am_yoy_metrics00,goals_filter00[['metric_name','amsb_logon_id','sbb_district','sbb_region_cc','level','scorecard_filter',\n",
    "                     'q1_plan','q2_plan','q3_plan','q4_plan']],how=\"left\",\n",
    "                       left_on=['metric_name','acf2_id','am_cost_center','sm_cost_center','level','scorecard_filter'],\n",
    "                       right_on=['metric_name','amsb_logon_id','sbb_district','sbb_region_cc','level','scorecard_filter'],\n",
    "                    indicator=True)\n",
    "\n",
    "## merge all RAMP metrics with RAMP goals\n",
    "all_goals22=pd.merge(df_am_yoy_metrics01,goals_filter01[['metric_name','amsb_logon_id','level','scorecard_filter',\n",
    "                     'q1_plan','q2_plan','q3_plan','q4_plan']],how=\"left\",\n",
    "                       left_on=['metric_name','acf2_id','level','scorecard_filter'],\n",
    "                       right_on=['metric_name','amsb_logon_id','level','scorecard_filter'],\n",
    "                    indicator=True)\n",
    "\n",
    "##order the vars\n",
    "all_goals20=all_goals20[['metric_name','level','acf2_id','employee_name',\n",
    "                            'november','prev_november','december','prev_december','january','prev_january',\n",
    "                            'february','prev_february','march','prev_march','april','prev_april','may','prev_may',\n",
    "                            'june','prev_june','july','prev_july','august','prev_august','september','prev_september',\n",
    "                            'october','prev_october','q1','q1_benchmark','q1_plan','Q1_YoY',\n",
    "                            'q2','q2_benchmark','q2_plan','Q2_YoY',\n",
    "                            'q3','q3_benchmark','q3_plan','Q3_YoY',\n",
    "                            'q4','q4_benchmark','q4_plan','Q4_YoY',\n",
    "                            'ytd','ytd_benchmark','YTD_YoY','am_cost_center','am_cost_center_name','am_cost_center_full_name',\n",
    "                            'sm_cost_center','sm_cost_center_name','scorecard_filter','record_date']]\n",
    "\n",
    "all_goals22=all_goals22[['metric_name','level','acf2_id','employee_name',\n",
    "                            'november','prev_november','december','prev_december','january','prev_january',\n",
    "                            'february','prev_february','march','prev_march','april','prev_april','may','prev_may',\n",
    "                            'june','prev_june','july','prev_july','august','prev_august','september','prev_september',\n",
    "                            'october','prev_october','q1','q1_benchmark','q1_plan','Q1_YoY',\n",
    "                            'q2','q2_benchmark','q2_plan','Q2_YoY',\n",
    "                            'q3','q3_benchmark','q3_plan','Q3_YoY',\n",
    "                            'q4','q4_benchmark','q4_plan','Q4_YoY',\n",
    "                            'ytd','ytd_benchmark','YTD_YoY','am_cost_center','am_cost_center_name','am_cost_center_full_name',\n",
    "                            'sm_cost_center','sm_cost_center_name','scorecard_filter','record_date']]\n",
    "\n",
    "## concatenate RAMP and non-RAMP\n",
    "all_goals2=pd.concat([all_goals22,all_goals20],axis=0)\n",
    "\n",
    "### calculate pace to plan\n",
    "q1_tot1=q1_tot.total_seconds()\n",
    "q2_tot1=q2_tot.total_seconds()\n",
    "q3_tot1=q3_tot.total_seconds()\n",
    "q4_tot1=q4_tot.total_seconds()\n",
    "\n",
    "q1_passed=q1_passed.total_seconds()\n",
    "q2_passed=q2_passed.total_seconds()\n",
    "q3_passed=q3_passed.total_seconds()\n",
    "q4_passed=q4_passed.total_seconds()\n",
    "\n",
    "## change types\n",
    "#all_goals2=all_goals2=.astype({\"q1\": object})\n",
    "#all_goals2['q1_plan']=all_goals2['q1_plan'].format(f, \".4g\")\n",
    "#all_goals2['q1_plan'] = all_goals2['q1_plan'].apply(Decimal)\n",
    "\n",
    "## comment out for now\n",
    "#all_goals2['q1_plan']=pd.to_numeric(all_goals2['q1_plan'], errors='coerce').fillna(0)\n",
    "#all_goals2['q2_plan']=pd.to_numeric(all_goals2['q2_plan'], errors='coerce').fillna(0)\n",
    "#all_goals2['q3_plan']=pd.to_numeric(all_goals2['q3_plan'], errors='coerce').fillna(0)\n",
    "#all_goals2['q4_plan']=pd.to_numeric(all_goals2['q4_plan'], errors='coerce').fillna(0)\n",
    "                                         \n",
    "\n",
    "all_goals2['q1_pace_to_plan'] = np.where(all_goals2['q1_plan']>0.0,((all_goals2.q1.fillna(0))*q1_tot1/q1_passed)/(all_goals2.q1_plan), 0)\n",
    "all_goals2['q2_pace_to_plan'] = np.where(all_goals2['q2_plan']>0.0,((all_goals2.q2.fillna(0))*q2_tot1/q2_passed)/(all_goals2.q2_plan), 0)\n",
    "all_goals2['q3_pace_to_plan'] = np.where(all_goals2['q3_plan']>0.0,((all_goals2.q3.fillna(0))*q3_tot1/q3_passed)/(all_goals2.q3_plan), 0)\n",
    "all_goals2['q4_pace_to_plan'] = np.where(all_goals2['q4_plan']>0.0,((all_goals2.q4.fillna(0))*q4_tot1/q3_passed)/(all_goals2.q4_plan), 0)\n",
    "\n",
    "\n",
    "## order the vars\n",
    "all_data=all_goals2[['metric_name','level','acf2_id','employee_name',\n",
    "                            'november','prev_november','december','prev_december','january','prev_january',\n",
    "                            'february','prev_february','march','prev_march','april','prev_april','may','prev_may',\n",
    "                            'june','prev_june','july','prev_july','august','prev_august','september','prev_september',\n",
    "                            'october','prev_october','q1','q1_benchmark','q1_plan','q1_pace_to_plan','Q1_YoY',\n",
    "                            'q2','q2_benchmark','q2_plan','q2_pace_to_plan','Q2_YoY',\n",
    "                            'q3','q3_benchmark','q3_plan','q3_pace_to_plan','Q3_YoY',\n",
    "                            'q4','q4_benchmark','q4_plan','q4_pace_to_plan','Q4_YoY',\n",
    "                            'ytd','ytd_benchmark','YTD_YoY','am_cost_center','am_cost_center_name','am_cost_center_full_name',\n",
    "                            'sm_cost_center','sm_cost_center_name','scorecard_filter','record_date']]\n"
   ]
  },
  {
   "cell_type": "code",
   "execution_count": null,
   "metadata": {},
   "outputs": [],
   "source": [
    "#all_data[(all_data.acf2_id=='TAB8991') & (all_data.metric_name=='Total Business Banking Referral Volume')]\n"
   ]
  },
  {
   "cell_type": "code",
   "execution_count": null,
   "metadata": {},
   "outputs": [],
   "source": [
    "all_data.level.unique()"
   ]
  },
  {
   "cell_type": "code",
   "execution_count": null,
   "metadata": {},
   "outputs": [],
   "source": [
    "################################### CALCULATE AMSB LEI ############################################\n",
    "\n",
    "####################### READ IN THE CURRENT AMSB LEI DATA #######################################\n",
    "df_metrics_lei= spark.table('anp_cabbtdct1_final.SBB_SC_OUTPUT_LEI')\n",
    "df_metrics1_lei=df_metrics_lei.toPandas()\n",
    "\n",
    "## get the AMSB data\n",
    "lei_metric_amsb=df_metrics1_lei[(df_metrics1_lei.level=='AMSB') & (df_metrics1_lei.record_date==rec_date)]\n",
    "\n",
    "####################### CALCULATE AM's YoY MTD AND YTD METRICS #############################################\n",
    "\n",
    "## create prev MTD and YTD calculations\n",
    "lei_metric_amsb['prev_november']=0\n",
    "lei_metric_amsb['prev_december']=0\n",
    "lei_metric_amsb['prev_january']=0\n",
    "lei_metric_amsb['prev_february']=0\n",
    "lei_metric_amsb['prev_march']=0\n",
    "lei_metric_amsb['prev_april']=0\n",
    "lei_metric_amsb['prev_may']=0\n",
    "lei_metric_amsb['prev_june']=0\n",
    "lei_metric_amsb['prev_july']=0\n",
    "lei_metric_amsb['prev_august']=0\n",
    "lei_metric_amsb['prev_september']=0\n",
    "lei_metric_amsb['prev_october']=0\n",
    "lei_metric_amsb['Q1_YoY']=0\n",
    "lei_metric_amsb['Q2_YoY']=0\n",
    "lei_metric_amsb['Q3_YoY']=0\n",
    "lei_metric_amsb['Q4_YoY']=0\n",
    "lei_metric_amsb['YTD_YoY']=0\n",
    "\n",
    "#### get relevant vars\n",
    "lei_amsb_yoy=lei_metric_amsb[['metric_name','level','acf2_id','employee_name',\n",
    "                            'november','prev_november','december','prev_december','january','prev_january',\n",
    "                            'february','prev_february','march','prev_march','april','prev_april','may','prev_may',\n",
    "                            'june','prev_june','july','prev_july','august','prev_august','september','prev_september',\n",
    "                            'october','prev_october','q1','q1_benchmark','q1_plan','q1_pace_to_plan','Q1_YoY',\n",
    "                            'q2','q2_benchmark','q2_plan','q2_pace_to_plan','Q2_YoY',\n",
    "                            'q3','q3_benchmark','q3_plan','q3_pace_to_plan','Q3_YoY',\n",
    "                            'q4','q4_benchmark','q4_plan','q4_pace_to_plan','Q4_YoY',\n",
    "                            'ytd','ytd_benchmark','YTD_YoY','am_cost_center','am_cost_center_name','am_cost_center_full_name',\n",
    "                            'sm_cost_center','sm_cost_center_name','scorecard_filter','record_date']]\n"
   ]
  },
  {
   "cell_type": "code",
   "execution_count": null,
   "metadata": {},
   "outputs": [],
   "source": [
    "################################### CALCULATE AM LEI ############################################\n",
    "\n",
    "## get the AM data\n",
    "lei_metric_am=df_metrics1_lei[(df_metrics1_lei.level=='AM') & (df_metrics1_lei.record_date==rec_date)]\n",
    "\n",
    "####################### CALCULATE AM's YoY MTD AND YTD METRICS #############################################\n",
    "\n",
    "## merge the current data to historical data\n",
    "am_metric_calc_lei=pd.merge(lei_metric_am,dfamhist2,on=['metric_name','scorecard_filter','am_cost_center'],how=\"left\")\n",
    "\n",
    "## MTD,QTD,YTD calculations\n",
    "yoyvarfunc(am_metric_calc_lei)\n",
    "\n",
    "#### get relevant vars\n",
    "lei_am_yoy=am_metric_calc_lei[['metric_name','level','acf2_id','employee_name',\n",
    "                            'november','prev_november','december','prev_december','january','prev_january',\n",
    "                            'february','prev_february','march','prev_march','april','prev_april','may','prev_may',\n",
    "                            'june','prev_june','july','prev_july','august','prev_august','september','prev_september',\n",
    "                            'october','prev_october','q1','q1_benchmark','q1_plan','q1_pace_to_plan','Q1_YoY',\n",
    "                            'q2','q2_benchmark','q2_plan','q2_pace_to_plan','Q2_YoY',\n",
    "                            'q3','q3_benchmark','q3_plan','q3_pace_to_plan','Q3_YoY',\n",
    "                            'q4','q4_benchmark','q4_plan','q4_pace_to_plan','Q4_YoY',\n",
    "                            'ytd','ytd_benchmark','YTD_YoY','am_cost_center','am_cost_center_name','am_cost_center_full_name',\n",
    "                            'sm_cost_center','sm_cost_center_name','scorecard_filter','record_date']]\n"
   ]
  },
  {
   "cell_type": "code",
   "execution_count": null,
   "metadata": {},
   "outputs": [],
   "source": [
    "lei_am_yoy.head(5)"
   ]
  },
  {
   "cell_type": "code",
   "execution_count": null,
   "metadata": {},
   "outputs": [],
   "source": [
    "################################### CALCULATE SM LEI ############################################\n",
    "\n",
    "####################### READ IN THE CURRENT SM LEI DATA #######################################\n",
    "\n",
    "## get the SM data\n",
    "lei_metric_sm=df_metrics1_lei[(df_metrics1_lei.level=='SM') & (df_metrics1_lei.record_date==rec_date)]\n",
    "\n",
    "####################### CALCULATE SM's YoY MTD AND YTD METRICS #############################################\n",
    "\n",
    "## merge the current data to last year's data\n",
    "sm_metric_calc_lei=pd.merge(lei_metric_sm,dfsmhist2,on=['metric_name','scorecard_filter','sm_cost_center'],how=\"left\")\n",
    "\n",
    "## MTD,QTD,YTD calculations\n",
    "yoyvarfunc(sm_metric_calc_lei)\n",
    "\n",
    "#### get relevant vars\n",
    "lei_sm_yoy=sm_metric_calc_lei[['metric_name','level','acf2_id','employee_name',\n",
    "                            'november','prev_november','december','prev_december','january','prev_january',\n",
    "                            'february','prev_february','march','prev_march','april','prev_april','may','prev_may',\n",
    "                            'june','prev_june','july','prev_july','august','prev_august','september','prev_september',\n",
    "                            'october','prev_october','q1','q1_benchmark','q1_plan','q1_pace_to_plan','Q1_YoY',\n",
    "                            'q2','q2_benchmark','q2_plan','q2_pace_to_plan','Q2_YoY',\n",
    "                            'q3','q3_benchmark','q3_plan','q3_pace_to_plan','Q3_YoY',\n",
    "                            'q4','q4_benchmark','q4_plan','q4_pace_to_plan','Q4_YoY',\n",
    "                            'ytd','ytd_benchmark','YTD_YoY','am_cost_center','am_cost_center_name','am_cost_center_full_name',\n",
    "                            'sm_cost_center','sm_cost_center_name','scorecard_filter','record_date']]\n"
   ]
  },
  {
   "cell_type": "code",
   "execution_count": null,
   "metadata": {},
   "outputs": [],
   "source": [
    "###### concatenate the AM and SM LEI data\n",
    "lei_yoy_metrics=pd.concat([lei_amsb_yoy,lei_am_yoy,lei_sm_yoy],axis=0)\n"
   ]
  },
  {
   "cell_type": "code",
   "execution_count": null,
   "metadata": {},
   "outputs": [],
   "source": [
    "####### if LEI exists in LEI dataframe, then delete from main dataframe\n",
    "if lei_yoy_metrics.shape[0]>0:\n",
    "    all_data=all_data[(all_data.metric_name!='LEI')]\n",
    "else:\n",
    "    print('LEI data not exist')"
   ]
  },
  {
   "cell_type": "code",
   "execution_count": null,
   "metadata": {},
   "outputs": [],
   "source": [
    "#all_data.metric_name.unique()\n",
    "#all_data[(all_data.level==\"National Office\") & (all_data.metric_name==\"AMSB Retail Referrals\")]"
   ]
  },
  {
   "cell_type": "code",
   "execution_count": null,
   "metadata": {},
   "outputs": [],
   "source": [
    "########################################## CONCATENATE ALL METRICS WITH LEI METRIC ################################################\n",
    "all_metrics_final=pd.concat([all_data,lei_yoy_metrics],axis=0)\n"
   ]
  },
  {
   "cell_type": "code",
   "execution_count": null,
   "metadata": {},
   "outputs": [],
   "source": [
    "all_metrics_final.level.unique()"
   ]
  },
  {
   "cell_type": "code",
   "execution_count": null,
   "metadata": {},
   "outputs": [],
   "source": [
    "#### define record_date\n",
    "all_metrics_final['record_date']=dteq"
   ]
  },
  {
   "cell_type": "code",
   "execution_count": null,
   "metadata": {},
   "outputs": [],
   "source": [
    "all_metrics_final.record_date.unique()"
   ]
  },
  {
   "cell_type": "code",
   "execution_count": null,
   "metadata": {},
   "outputs": [],
   "source": [
    "#result_sm_all[(result_sm_all.sm_cost_center=='3069') & (result_sm_all.metric_name=='SBB Gross LON Volume')]\n"
   ]
  },
  {
   "cell_type": "code",
   "execution_count": null,
   "metadata": {},
   "outputs": [],
   "source": [
    "########################## get NATIONAL OFFICE data ################################\n",
    "\n",
    "df_nso_all90=all_metrics_final[(all_metrics_final.level=='National Office')]\n"
   ]
  },
  {
   "cell_type": "code",
   "execution_count": null,
   "metadata": {},
   "outputs": [],
   "source": [
    "#all_metrics_final.info()"
   ]
  },
  {
   "cell_type": "code",
   "execution_count": null,
   "metadata": {},
   "outputs": [],
   "source": [
    "all_metrics_final[(all_metrics_final.acf2_id=='ALEXAT2') & (all_metrics_final.metric_name=='Total Business Banking Referral Volume')]"
   ]
  },
  {
   "cell_type": "code",
   "execution_count": null,
   "metadata": {},
   "outputs": [],
   "source": [
    "################ FILL BLANKS WITH 0s\n",
    "all_metrics_final=all_metrics_final.replace([np.inf, -np.inf], np.nan)\n",
    "\n",
    "all_metrics_final[['november','prev_november','december','prev_december','january','prev_january',\n",
    "                            'february','prev_february','march','prev_march','april','prev_april','may','prev_may',\n",
    "                            'june','prev_june','july','prev_july','august','prev_august','september','prev_september',\n",
    "                            'october','prev_october','q1','q1_benchmark','q1_plan','q1_pace_to_plan','Q1_YoY',\n",
    "                            'q2','q2_benchmark','q2_plan','q2_pace_to_plan','Q2_YoY',\n",
    "                            'q3','q3_benchmark','q3_plan','q3_pace_to_plan','Q3_YoY',\n",
    "                            'q4','q4_benchmark','q4_plan','q4_pace_to_plan','Q4_YoY',\n",
    "                            'ytd','ytd_benchmark','YTD_YoY']]=all_metrics_final[['november','prev_november','december','prev_december','january','prev_january',\n",
    "                            'february','prev_february','march','prev_march','april','prev_april','may','prev_may',\n",
    "                            'june','prev_june','july','prev_july','august','prev_august','september','prev_september',\n",
    "                            'october','prev_october','q1','q1_benchmark','q1_plan','q1_pace_to_plan','Q1_YoY',\n",
    "                            'q2','q2_benchmark','q2_plan','q2_pace_to_plan','Q2_YoY',\n",
    "                            'q3','q3_benchmark','q3_plan','q3_pace_to_plan','Q3_YoY',\n",
    "                            'q4','q4_benchmark','q4_plan','q4_pace_to_plan','Q4_YoY',\n",
    "                            'ytd','ytd_benchmark','YTD_YoY']].fillna(value=0)\n"
   ]
  },
  {
   "cell_type": "code",
   "execution_count": null,
   "metadata": {},
   "outputs": [],
   "source": [
    "all_metrics_final[(all_metrics_final.level==\"National Office\") & (all_metrics_final.metric_name==\"AMSB Retail Referrals\")].head(5)"
   ]
  },
  {
   "cell_type": "code",
   "execution_count": null,
   "metadata": {},
   "outputs": [],
   "source": []
  },
  {
   "cell_type": "code",
   "execution_count": null,
   "metadata": {},
   "outputs": [],
   "source": [
    "### Remove Puneet Sharma\n",
    "dlist = [\"Josie Fierro\",\"Matthew Joseph Micallef\", \"Puneet Sharma\",\"Quang Loc Huynh\",\"Sarah Rowe\",\"Scott Ranson\",\"Thomas Adesunloye\",\"Ajay Boparai\"\n",
    "         ,\"Christian Ebolue\",\"Neville Johnson\",\"Shamsuddin Nasruddin Rupani\",\"Kristyn Nazareth\", \n",
    "         \"Vasilios B. Chortogiannos\",\"Oksana Oliynyk\",\"Gaurav Jindal\",\"Muhammad Salman Azeem\", \"Ipsita B Kappal\",\"Andrew Emidio D'Alfonso\",\"Jay Kamlesh Unadkat\"\n",
    "        ,\"Petros Michael Zewde\",\"George Apostolakos\",\"Cindy Chen\",\"Queenie Cheng\",\"Eric Hsin Hao Tsao\",\"John Curtin\",\n",
    "        \"Jie Xu\",\"Rina Tusha\",\"Abhinav Garg\",\"Muhammad Haroon Aslam\",\"Moushami Dullabh\",\"Aigbo Imoukhuede\",\n",
    "         \"Mark Nicholas Triemstra\",\"Sherry Conlin\",\"Silvana S Baccega\",\"Julie Huong Vu\",\"Christine Caroline Evelyn Maud Sealey\",\n",
    "          \"Erminia Spano\",\"Suzy L Gray\",\"Mamadou Mboup\",\"Marie-Eve Cayer\",\"Thomas G Ford\",\"Tammy Lynn Demings\",\n",
    "          \"Babar Iqbal\",\"Rafael Garcia Zambrano\",\"Anton Sopov\",\"Lisa M Stecko\",\"Trevor Nugent\",\"Farhad Charania\",\n",
    "          \"Manish Bhasker\",\"Sadaf Amjad\",\"Aaron Raymond LeBlanc\",\"Jessie Leveille\",\"Nancy Agnes Merrett\",\n",
    "          \"Carrey Brown\",\"Latanya Monteith-Housen\",\"Stephen Kristopher Milosh\",\"Nabeel Nawaz\",\"Thomas Ronald Sinclair\",\n",
    "          \"Janet Ingram\",\"David Yang\",\"Sherry Shi\",\"Raman Heir\",\"Chander Parkash Anand\",\"Donna D Ko\",\n",
    "          \"Rhoda Kadri\",\"David Barth\",\"Debra Cleal Udell\",\"Hollie Kereszti\",\"Didier Saenz\",\"Angus Yeung\",\"Maria Teixeira\"]\n",
    "temp = all_metrics_final[(all_metrics_final.employee_name.isin(dlist))&(all_metrics_final.record_date==dteq)].index\n",
    "all_metrics_final.drop(temp , inplace=True)"
   ]
  },
  {
   "cell_type": "code",
   "execution_count": null,
   "metadata": {},
   "outputs": [],
   "source": []
  },
  {
   "cell_type": "code",
   "execution_count": null,
   "metadata": {},
   "outputs": [],
   "source": [
    "dlist1 = [\"Maria Teixeira\"] \n",
    "\n",
    "all_metrics_final[(all_metrics_final.employee_name.isin(dlist1))]"
   ]
  },
  {
   "cell_type": "code",
   "execution_count": null,
   "metadata": {},
   "outputs": [],
   "source": [
    "all_metrics_final.shape"
   ]
  },
  {
   "cell_type": "code",
   "execution_count": null,
   "metadata": {},
   "outputs": [],
   "source": [
    "all_metrics_final=all_metrics_final.fillna(0)\n",
    "all_metrics_final.shape"
   ]
  },
  {
   "cell_type": "code",
   "execution_count": null,
   "metadata": {},
   "outputs": [],
   "source": [
    "## Code for adding missing metrices\n",
    "## STEP 1\n",
    "metrics = ['ALL Total Commercial Volume', 'All Commercial Deposit Volume',\n",
    "       'All Commercial Loan Volume','TD Securities Direct Trade','Total MUR Mortgage Volume']\n",
    "base = set(metrics)\n",
    "\n",
    "AMSBs = all_metrics_final[(all_metrics_final.level=='AMSB')][['metric_name', 'level', 'acf2_id', 'employee_name','am_cost_center', 'am_cost_center_name',\n",
    "       'am_cost_center_full_name', 'sm_cost_center', 'sm_cost_center_name', 'scorecard_filter']]\n",
    "\n",
    "d_add = pd.DataFrame(columns=['metric_name', 'level', 'acf2_id'])\n",
    "\n",
    "for AMSB in AMSBs.acf2_id.unique():\n",
    "    metric=set(AMSBs[(AMSBs.acf2_id==AMSB)].metric_name.unique())\n",
    "    to_add = list(base-metric)\n",
    "    for i in to_add:\n",
    "        data_tem={'metric_name':[i],'level':['AMSB'], 'acf2_id':[AMSB]}\n",
    "        df_temp = pd.DataFrame(data=data_tem)\n",
    "        d_add = pd.concat([d_add, df_temp], ignore_index=True)\n",
    "        \n",
    "AMSB1 = (AMSBs.drop(['metric_name','level'], axis=1)).drop_duplicates()\n",
    "AMSB1.head(5)"
   ]
  },
  {
   "cell_type": "code",
   "execution_count": null,
   "metadata": {},
   "outputs": [],
   "source": [
    "# STEP 2\n",
    "prelim = pd.merge(d_add,AMSB1, how='left', on=['acf2_id'])\n",
    "colls = ['november', 'prev_november', 'december', 'prev_december', 'january', 'prev_january',\n",
    "       'february', 'prev_february', 'march', 'prev_march', 'april', 'prev_april', 'may', 'prev_may', 'june', 'prev_june', 'july', 'prev_july',\n",
    "       'august', 'prev_august', 'september', 'prev_september', 'october', 'prev_october', 'q1', 'q1_benchmark', 'q1_plan', 'q1_pace_to_plan',\n",
    "       'Q1_YoY', 'q2', 'q2_benchmark', 'q2_plan', 'q2_pace_to_plan', 'Q2_YoY', 'q3', 'q3_benchmark', 'q3_plan', 'q3_pace_to_plan', 'Q3_YoY', 'q4',\n",
    "       'q4_benchmark', 'q4_plan', 'q4_pace_to_plan', 'Q4_YoY', 'ytd', 'ytd_benchmark', 'YTD_YoY']\n",
    "for i in colls:\n",
    "    prelim[i]=0\n",
    "\n",
    "prelim['record_date']=dteq \n",
    "\n",
    "Final = prelim[['metric_name', 'level', 'acf2_id', 'employee_name', 'november', 'prev_november', 'december', 'prev_december', 'january', 'prev_january',\n",
    "       'february', 'prev_february', 'march', 'prev_march', 'april', 'prev_april', 'may', 'prev_may', 'june', 'prev_june', 'july', 'prev_july',\n",
    "       'august', 'prev_august', 'september', 'prev_september', 'october', 'prev_october', 'q1', 'q1_benchmark', 'q1_plan', 'q1_pace_to_plan',\n",
    "       'Q1_YoY', 'q2', 'q2_benchmark', 'q2_plan', 'q2_pace_to_plan', 'Q2_YoY', 'q3', 'q3_benchmark', 'q3_plan', 'q3_pace_to_plan', 'Q3_YoY', 'q4',\n",
    "       'q4_benchmark', 'q4_plan', 'q4_pace_to_plan', 'Q4_YoY', 'ytd', 'ytd_benchmark', 'YTD_YoY', 'am_cost_center', 'am_cost_center_name',\n",
    "       'am_cost_center_full_name', 'sm_cost_center', 'sm_cost_center_name', 'scorecard_filter','record_date']]\n",
    "\n",
    "#Final.head(2)\n",
    "frames = [Final, all_metrics_final]\n",
    "all_metrics_final = pd.concat(frames)"
   ]
  },
  {
   "cell_type": "code",
   "execution_count": null,
   "metadata": {},
   "outputs": [],
   "source": []
  },
  {
   "cell_type": "code",
   "execution_count": null,
   "metadata": {},
   "outputs": [],
   "source": [
    "all_metrics_final.shape"
   ]
  },
  {
   "cell_type": "code",
   "execution_count": null,
   "metadata": {},
   "outputs": [],
   "source": [
    "## Convert pandas dataframe to Pyspark dataframe and save in table; this dataframe contains all metrics except for LEI\n",
    "spark.sql(\"set hive.exec.dynamic.partition.mode=nonstrict\")\n",
    "spark.createDataFrame(all_metrics_final).write.mode(\"append\").partitionBy(\"record_date\").format(\"hive\").saveAsTable(\"anp_cabbtdct1_final.SBB_SC_METRICS_DASHBOARD_F24\")\n"
   ]
  },
  {
   "cell_type": "code",
   "execution_count": null,
   "metadata": {},
   "outputs": [],
   "source": [
    "### END OF PROGRAM\n",
    "all_metrics_final.head(5)\n",
    "#all_metrics_final.metric_name.unique()"
   ]
  },
  {
   "cell_type": "code",
   "execution_count": null,
   "metadata": {},
   "outputs": [],
   "source": [
    "Hist_Cols = ['november', 'prev_november', 'december', 'prev_december', 'january', 'prev_january',\n",
    "             'february', 'prev_february', 'march', 'prev_march', 'april', 'prev_april','may', 'prev_may', 'june', 'prev_june', 'july', 'prev_july',\n",
    "       'august', 'prev_august', 'september', 'prev_september', 'october', 'prev_october','q1', 'q1_benchmark', 'q1_plan', 'q1_pace_to_plan',\n",
    "            'Q1_YoY', 'q2', 'q2_benchmark', 'q2_plan', 'q2_pace_to_plan', 'Q2_YoY','q3', 'q3_benchmark', 'q3_plan', 'q3_pace_to_plan', 'Q3_YoY', 'q4',\n",
    "       'q4_benchmark', 'q4_plan', 'q4_pace_to_plan', 'Q4_YoY', 'ytd', 'ytd_benchmark', 'YTD_YoY']\n",
    "\n"
   ]
  },
  {
   "cell_type": "code",
   "execution_count": null,
   "metadata": {},
   "outputs": [],
   "source": []
  },
  {
   "cell_type": "code",
   "execution_count": null,
   "metadata": {},
   "outputs": [],
   "source": [
    "record_date = dteq\n",
    "record_date"
   ]
  },
  {
   "cell_type": "code",
   "execution_count": null,
   "metadata": {},
   "outputs": [],
   "source": [
    "#spark.sql(\"set hive.exec.dynamic.partition.mode=nonstrict\")\n",
    "#spark.createDataFrame(df_Hist).write.mode(\"append\").partitionBy(\"record_date\").format(\"hive\").saveAsTable(\"anp_cabbtdct1_final.SBB_SC_METRICS_DASHBOARD_F24\")\n"
   ]
  },
  {
   "cell_type": "code",
   "execution_count": null,
   "metadata": {},
   "outputs": [],
   "source": [
    "df_Hist.metric_name.unique()"
   ]
  },
  {
   "cell_type": "code",
   "execution_count": null,
   "metadata": {},
   "outputs": [],
   "source": [
    "all_metrics_final.metric_name.unique()"
   ]
  },
  {
   "cell_type": "code",
   "execution_count": null,
   "metadata": {},
   "outputs": [],
   "source": []
  }
 ],
 "metadata": {
  "language_info": {
   "name": "python",
   "pygments_lexer": "ipython3"
  }
 },
 "nbformat": 4,
 "nbformat_minor": 4
}
